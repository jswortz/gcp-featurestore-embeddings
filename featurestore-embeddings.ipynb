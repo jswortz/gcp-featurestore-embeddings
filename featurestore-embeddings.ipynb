{
 "cells": [
  {
   "cell_type": "markdown",
   "metadata": {
    "id": "lWEdiXsJg0XY"
   },
   "source": [
    "## Before you begin"
   ]
  },
  {
   "cell_type": "markdown",
   "metadata": {
    "id": "i7EUnXsZhAGF"
   },
   "source": [
    "### Install additional packages\n",
    "\n",
    "For this notebook, you need the Vertex SDK for Python."
   ]
  },
  {
   "cell_type": "code",
   "execution_count": 2,
   "metadata": {
    "id": "wyy5Lbnzg5fi"
   },
   "outputs": [],
   "source": [
    "# ! pip install {USER_FLAG} --upgrade google-cloud-aiplatform"
   ]
  },
  {
   "cell_type": "markdown",
   "metadata": {
    "id": "XoEqT2Y4DJmf"
   },
   "source": [
    "### Import libraries and define constants"
   ]
  },
  {
   "cell_type": "code",
   "execution_count": 1,
   "metadata": {
    "id": "Cdct_Lm7x2I_"
   },
   "outputs": [],
   "source": [
    "from google.cloud import aiplatform\n",
    "from google.cloud.aiplatform import Feature, Featurestore\n",
    "\n",
    "REGION = \"us-central1\"  # @param {type:\"string\"}\n",
    "if REGION == \"[your-region]\":\n",
    "    REGION = \"us-central1\"\n",
    "\n",
    "FEATURESTORE_ID = \"embedding_poc\"\n",
    "# INPUT_CSV_FILE = \"gs://cloud-samples-data-us-central1/vertex-ai/feature-store/datasets/movie_prediction.csv\"\n",
    "ONLINE_STORE_FIXED_NODE_COUNT = 1\n",
    "PROJECT_ID = \"wortz-project-352116\"\n",
    "\n",
    "#embedding parameters\n",
    "N_PRODUCTS = 1_000_000\n",
    "N_CUSTOMERS = 1_000_000\n",
    "PROD_EMB_DIM = 512\n",
    "CUST_EMB_DIM = 512\n",
    "\n",
    "aiplatform.init(project=PROJECT_ID, location=REGION)"
   ]
  },
  {
   "cell_type": "markdown",
   "metadata": {
    "id": "h_HmF24mBHv9"
   },
   "source": [
    "## Terminology and Concept\n",
    "\n",
    "### Featurestore Data model\n",
    "\n",
    "Vertex AI Feature Store organizes data with the following 3 important hierarchical concepts:\n",
    "```\n",
    "Featurestore -> Entity type -> Feature\n",
    "```\n",
    "* **Featurestore**: the place to store your features\n",
    "* **Entity type**: under a Featurestore, an Entity type describes an object to be modeled, real one or virtual one.\n",
    "* **Feature**: under an Entity type, a Feature describes an attribute of the Entity type\n",
    "\n",
    "In the movie prediction example, you will create a featurestore called `movie_prediction`. This store has 2 entity types: `users` and `movies`. The `users` entity type has the `age`, `gender`, and `liked_genres` features. The `movies` entity type has the `titles`, `genres`, and `average rating` features.\n"
   ]
  },
  {
   "cell_type": "markdown",
   "metadata": {
    "id": "9UvxYyGUimKw"
   },
   "source": [
    "## Create Featurestore and Define Schemas"
   ]
  },
  {
   "cell_type": "markdown",
   "metadata": {
    "id": "buQBIv3ZL3A0"
   },
   "source": [
    "### Create Featurestore\n",
    "\n",
    "The method to create a Featurestore returns a\n",
    "[long-running operation](https://google.aip.dev/151) (LRO). An LRO starts an asynchronous job. LROs are returned for other API\n",
    "methods too, such as updating or deleting a featurestore. Running the code cell will create a featurestore and print the process log."
   ]
  },
  {
   "cell_type": "code",
   "execution_count": 2,
   "metadata": {
    "id": "D6uIWQeoBSr8"
   },
   "outputs": [],
   "source": [
    "# fs = Featurestore.create(\n",
    "#     featurestore_id=FEATURESTORE_ID,\n",
    "#     online_store_fixed_node_count=ONLINE_STORE_FIXED_NODE_COUNT,\n",
    "#     project=PROJECT_ID,\n",
    "#     location=REGION,\n",
    "#     sync=True,\n",
    "# )"
   ]
  },
  {
   "cell_type": "markdown",
   "metadata": {
    "id": "ag8pCQ7rNjVf"
   },
   "source": [
    "Use the function call below to retrieve a Featurestore and check that it has been created.\n"
   ]
  },
  {
   "cell_type": "code",
   "execution_count": 3,
   "metadata": {
    "id": "eKhD4q8rXjmM"
   },
   "outputs": [
    {
     "name": "stdout",
     "output_type": "stream",
     "text": [
      "name: \"projects/679926387543/locations/us-central1/featurestores/embedding_poc\"\n",
      "create_time {\n",
      "  seconds: 1654705327\n",
      "  nanos: 805462000\n",
      "}\n",
      "update_time {\n",
      "  seconds: 1654705327\n",
      "  nanos: 864581000\n",
      "}\n",
      "etag: \"AMEw9yOPA-QPctV6YwyGmuk-tqA5ZlG9Iblrgs2nUUM0oE60ji0JMZI2SgaGQHNpa9O7\"\n",
      "online_serving_config {\n",
      "  fixed_node_count: 1\n",
      "}\n",
      "state: STABLE\n",
      "\n"
     ]
    }
   ],
   "source": [
    "fs = Featurestore(\n",
    "    featurestore_name=FEATURESTORE_ID,\n",
    "    project=PROJECT_ID,\n",
    "    location=REGION,\n",
    ")\n",
    "print(fs.gca_resource)"
   ]
  },
  {
   "cell_type": "markdown",
   "metadata": {
    "id": "EpmJq75zXjmT"
   },
   "source": [
    "### Create Entity Type\n",
    "\n",
    "Entity types can be created within the Featurestore class. Below, create the Users entity type and Movies entity type. A process log will be printed out."
   ]
  },
  {
   "cell_type": "code",
   "execution_count": 12,
   "metadata": {
    "id": "GU0oXvINBgPV"
   },
   "outputs": [
    {
     "name": "stdout",
     "output_type": "stream",
     "text": [
      "Creating EntityType\n",
      "Create EntityType backing LRO: projects/679926387543/locations/us-central1/featurestores/embedding_poc/entityTypes/user/operations/6782040126760419328\n",
      "EntityType created. Resource name: projects/679926387543/locations/us-central1/featurestores/embedding_poc/entityTypes/user\n",
      "To use this EntityType in another session:\n",
      "entity_type = aiplatform.EntityType('projects/679926387543/locations/us-central1/featurestores/embedding_poc/entityTypes/user')\n"
     ]
    }
   ],
   "source": [
    "# # Create users entity type\n",
    "# users_entity_type = fs.create_entity_type(\n",
    "#     entity_type_id=\"user\",\n",
    "#     description=\"Users\",\n",
    "# )"
   ]
  },
  {
   "cell_type": "code",
   "execution_count": 17,
   "metadata": {
    "id": "qPCGFznrFwFy"
   },
   "outputs": [],
   "source": [
    "# # Create movies entity type\n",
    "# product_entity_type = fs.create_entity_type(\n",
    "#     entity_type_id=\"products\",\n",
    "#     description=\"Products\",\n",
    "# )"
   ]
  },
  {
   "cell_type": "markdown",
   "metadata": {
    "id": "G0TS9i5SJnkt"
   },
   "source": [
    "To retrieve an entity type or check that it has been created use the [get_entity_type](https://github.com/googleapis/python-aiplatform/blob/main/google/cloud/aiplatform/featurestore/featurestore.py#L106) or [list_entity_types](https://github.com/googleapis/python-aiplatform/blob/main/google/cloud/aiplatform/featurestore/featurestore.py#L278) methods on the Featurestore object.\n"
   ]
  },
  {
   "cell_type": "code",
   "execution_count": 4,
   "metadata": {
    "id": "5DHcAyoFJmq9"
   },
   "outputs": [
    {
     "name": "stdout",
     "output_type": "stream",
     "text": [
      "<google.cloud.aiplatform.featurestore.entity_type.EntityType object at 0x7fbbe2e58910> \n",
      "resource name: projects/679926387543/locations/us-central1/featurestores/embedding_poc/entityTypes/user\n",
      "<google.cloud.aiplatform.featurestore.entity_type.EntityType object at 0x7fbbd94c6890> \n",
      "resource name: projects/679926387543/locations/us-central1/featurestores/embedding_poc/entityTypes/products\n"
     ]
    }
   ],
   "source": [
    "users_entity_type = fs.get_entity_type(entity_type_id=\"user\")\n",
    "products_entity_type = fs.get_entity_type(entity_type_id=\"products\")\n",
    "print(users_entity_type)\n",
    "print(products_entity_type)"
   ]
  },
  {
   "cell_type": "code",
   "execution_count": 7,
   "metadata": {
    "id": "EWMzDNFT5qf0"
   },
   "outputs": [
    {
     "data": {
      "text/plain": [
       "[<google.cloud.aiplatform.featurestore.entity_type.EntityType object at 0x7fcf30835250> \n",
       " resource name: projects/679926387543/locations/us-central1/featurestores/embedding_poc/entityTypes/products,\n",
       " <google.cloud.aiplatform.featurestore.entity_type.EntityType object at 0x7fcf30835890> \n",
       " resource name: projects/679926387543/locations/us-central1/featurestores/embedding_poc/entityTypes/user]"
      ]
     },
     "execution_count": 7,
     "metadata": {},
     "output_type": "execute_result"
    }
   ],
   "source": [
    "fs.list_entity_types()"
   ]
  },
  {
   "cell_type": "markdown",
   "metadata": {
    "id": "FJW4q-0jO2Xf"
   },
   "source": [
    "### Create Feature\n",
    "Features can be created within each entity type. Add defining features to the Users entity type and Movies entity type by using the `create_feature` method."
   ]
  },
  {
   "cell_type": "code",
   "execution_count": 22,
   "metadata": {
    "id": "PvjwT84iVSps"
   },
   "outputs": [
    {
     "name": "stdout",
     "output_type": "stream",
     "text": [
      "Creating Feature\n",
      "Create Feature backing LRO: projects/679926387543/locations/us-central1/featurestores/embedding_poc/operations/3625016787973701632\n",
      "Feature created. Resource name: projects/679926387543/locations/us-central1/featurestores/embedding_poc/entityTypes/user/features/user_emb\n",
      "To use this Feature in another session:\n",
      "feature = aiplatform.Feature('projects/679926387543/locations/us-central1/featurestores/embedding_poc/entityTypes/user/features/user_emb')\n",
      "Creating Feature\n",
      "Create Feature backing LRO: projects/679926387543/locations/us-central1/featurestores/embedding_poc/operations/3373659633771085824\n",
      "Feature created. Resource name: projects/679926387543/locations/us-central1/featurestores/embedding_poc/entityTypes/products/features/product_emb\n",
      "To use this Feature in another session:\n",
      "feature = aiplatform.Feature('projects/679926387543/locations/us-central1/featurestores/embedding_poc/entityTypes/products/features/product_emb')\n"
     ]
    }
   ],
   "source": [
    "# # to create features one at a time use\n",
    "# user_embs = users_entity_type.create_feature(\n",
    "#     feature_id=\"user_emb\",\n",
    "#     value_type=\"DOUBLE_ARRAY\",\n",
    "#     description=\"User age\", #todo - fix to user embedding\n",
    "# )\n",
    "\n",
    "# users_feature_gender = products_entity_type.create_feature(\n",
    "#     feature_id=\"product_emb\",\n",
    "#     value_type=\"DOUBLE_ARRAY\",\n",
    "#     description=\"Product Embedding\",\n",
    "# )"
   ]
  },
  {
   "cell_type": "markdown",
   "metadata": {
    "id": "RQ9-AyFYBvcX"
   },
   "source": [
    "Use the [list_features](https://github.com/googleapis/python-aiplatform/blob/main/google/cloud/aiplatform/featurestore/entity_type.py#L349) method to list all the features of a given entity type."
   ]
  },
  {
   "cell_type": "code",
   "execution_count": 11,
   "metadata": {
    "id": "S5Lr8uXk1xD0"
   },
   "outputs": [
    {
     "data": {
      "text/plain": [
       "[<google.cloud.aiplatform.featurestore.feature.Feature object at 0x7f7d6095c1d0> \n",
       " resource name: projects/679926387543/locations/us-central1/featurestores/embedding_poc/entityTypes/user/features/user_emb]"
      ]
     },
     "execution_count": 11,
     "metadata": {},
     "output_type": "execute_result"
    }
   ],
   "source": [
    "users_entity_type.list_features()"
   ]
  },
  {
   "cell_type": "markdown",
   "metadata": {
    "id": "K3n5XdK8Xjmw"
   },
   "source": [
    "## Import Feature Values\n",
    "\n",
    "You need to import feature values before you can use them for online/offline serving. In this step, you learn how to import feature values by ingesting the values from GCS (Google Cloud Storage). You can also import feature values from BigQuery or a Pandas dataframe.\n"
   ]
  },
  {
   "cell_type": "markdown",
   "metadata": {
    "id": "m7DyDa6chbJx"
   },
   "source": [
    "### Import feature values for Users entity type\n",
    "\n",
    "When importing, specify the following in your request:\n",
    "\n",
    "* Random generated embedding data\n"
   ]
  },
  {
   "cell_type": "code",
   "execution_count": 5,
   "metadata": {},
   "outputs": [
    {
     "name": "stdout",
     "output_type": "stream",
     "text": [
      "Shape for user embeddings: (1000, 512) \n",
      "Shape for product_embeddings (1000, 512)\n",
      "MBs user emb: 4.096 \n",
      "MB prod emb: 4.096\n"
     ]
    }
   ],
   "source": [
    "import numpy as np\n",
    "\n",
    "# Override here for quick dev\n",
    "N_CUSTOMERS = 1000\n",
    "N_PRODUCTS = 1000\n",
    "user_emb_local = np.random.rand(N_CUSTOMERS, CUST_EMB_DIM)\n",
    "\n",
    "prod_emb_local = np.random.rand(N_PRODUCTS, PROD_EMB_DIM)\n",
    "\n",
    "print(f\"Shape for user embeddings: {user_emb_local.shape} \\nShape for product_embeddings {prod_emb_local.shape}\")\n",
    "\n",
    "#get MB of data - 8 bytes per double\n",
    "user_est_mb = 8 * user_emb_local.shape[0] * user_emb_local.shape[1] / 1_000_000\n",
    "prod_est_mb = 8 * prod_emb_local.shape[0] * prod_emb_local.shape[1] / 1_000_000\n",
    "\n",
    "print(f\"MBs user emb: {user_est_mb} \\nMB prod emb: {prod_est_mb}\")"
   ]
  },
  {
   "cell_type": "code",
   "execution_count": 6,
   "metadata": {},
   "outputs": [],
   "source": [
    "# put the data into dataframes\n",
    "import pandas as pd\n",
    "import numpy as np\n",
    "user_emb_data = pd.DataFrame(np.arange(N_CUSTOMERS), columns=['entity_id'])\n",
    "user_emb_data['entity_id'] = user_emb_data['entity_id'].map(str)\n",
    "user_emb_data['user_emb'] = user_emb_local.tolist() #be sure to match the names\n",
    "# user_emb_data = user_emb_data.drop(0, axis=1)\n",
    "# user_emb_data['entity_id'] = user_entity_resource_name\n",
    "\n",
    "prod_emb_data = pd.DataFrame(np.arange(N_PRODUCTS), columns=['entity_id'])\n",
    "prod_emb_data['entity_id'] = prod_emb_data['entity_id'].map(str)\n",
    "prod_emb_data['product_emb'] = prod_emb_local.tolist() #be sure to match the names\n",
    "# prod_emb_data = prod_emb_data.drop(0, axis=1)\n",
    "# prod_emb_data['entity_id'] = product_entity_resource_name\n"
   ]
  },
  {
   "cell_type": "code",
   "execution_count": 9,
   "metadata": {},
   "outputs": [
    {
     "data": {
      "text/html": [
       "<div>\n",
       "<style scoped>\n",
       "    .dataframe tbody tr th:only-of-type {\n",
       "        vertical-align: middle;\n",
       "    }\n",
       "\n",
       "    .dataframe tbody tr th {\n",
       "        vertical-align: top;\n",
       "    }\n",
       "\n",
       "    .dataframe thead th {\n",
       "        text-align: right;\n",
       "    }\n",
       "</style>\n",
       "<table border=\"1\" class=\"dataframe\">\n",
       "  <thead>\n",
       "    <tr style=\"text-align: right;\">\n",
       "      <th></th>\n",
       "      <th>entity_id</th>\n",
       "      <th>user_emb</th>\n",
       "    </tr>\n",
       "  </thead>\n",
       "  <tbody>\n",
       "    <tr>\n",
       "      <th>0</th>\n",
       "      <td>0</td>\n",
       "      <td>[0.9464177024086784, 0.23233340090575905, 0.87...</td>\n",
       "    </tr>\n",
       "    <tr>\n",
       "      <th>1</th>\n",
       "      <td>1</td>\n",
       "      <td>[0.992864020523561, 0.9282853464879975, 0.2389...</td>\n",
       "    </tr>\n",
       "    <tr>\n",
       "      <th>2</th>\n",
       "      <td>2</td>\n",
       "      <td>[0.714402887932741, 0.6407287422737147, 0.5264...</td>\n",
       "    </tr>\n",
       "    <tr>\n",
       "      <th>3</th>\n",
       "      <td>3</td>\n",
       "      <td>[0.19050736817389546, 0.08266669193992826, 0.0...</td>\n",
       "    </tr>\n",
       "    <tr>\n",
       "      <th>4</th>\n",
       "      <td>4</td>\n",
       "      <td>[0.4349632348191145, 0.8840255034951592, 0.806...</td>\n",
       "    </tr>\n",
       "    <tr>\n",
       "      <th>...</th>\n",
       "      <td>...</td>\n",
       "      <td>...</td>\n",
       "    </tr>\n",
       "    <tr>\n",
       "      <th>995</th>\n",
       "      <td>995</td>\n",
       "      <td>[0.7352608963791913, 0.31320071153339135, 0.59...</td>\n",
       "    </tr>\n",
       "    <tr>\n",
       "      <th>996</th>\n",
       "      <td>996</td>\n",
       "      <td>[0.8652637780875029, 0.9216894016659564, 0.092...</td>\n",
       "    </tr>\n",
       "    <tr>\n",
       "      <th>997</th>\n",
       "      <td>997</td>\n",
       "      <td>[0.0998902754130544, 0.33255599450721385, 0.72...</td>\n",
       "    </tr>\n",
       "    <tr>\n",
       "      <th>998</th>\n",
       "      <td>998</td>\n",
       "      <td>[0.4966973579681594, 0.06658641305152746, 0.56...</td>\n",
       "    </tr>\n",
       "    <tr>\n",
       "      <th>999</th>\n",
       "      <td>999</td>\n",
       "      <td>[0.6333747847401262, 0.6774153801490775, 0.886...</td>\n",
       "    </tr>\n",
       "  </tbody>\n",
       "</table>\n",
       "<p>1000 rows × 2 columns</p>\n",
       "</div>"
      ],
      "text/plain": [
       "    entity_id                                           user_emb\n",
       "0           0  [0.9464177024086784, 0.23233340090575905, 0.87...\n",
       "1           1  [0.992864020523561, 0.9282853464879975, 0.2389...\n",
       "2           2  [0.714402887932741, 0.6407287422737147, 0.5264...\n",
       "3           3  [0.19050736817389546, 0.08266669193992826, 0.0...\n",
       "4           4  [0.4349632348191145, 0.8840255034951592, 0.806...\n",
       "..        ...                                                ...\n",
       "995       995  [0.7352608963791913, 0.31320071153339135, 0.59...\n",
       "996       996  [0.8652637780875029, 0.9216894016659564, 0.092...\n",
       "997       997  [0.0998902754130544, 0.33255599450721385, 0.72...\n",
       "998       998  [0.4966973579681594, 0.06658641305152746, 0.56...\n",
       "999       999  [0.6333747847401262, 0.6774153801490775, 0.886...\n",
       "\n",
       "[1000 rows x 2 columns]"
      ]
     },
     "execution_count": 9,
     "metadata": {},
     "output_type": "execute_result"
    }
   ],
   "source": [
    "user_emb_data"
   ]
  },
  {
   "cell_type": "code",
   "execution_count": null,
   "metadata": {
    "tags": []
   },
   "outputs": [],
   "source": [
    "# We will use this to ingest data - expand for documentation\n",
    "?users_entity_type.ingest_from_df"
   ]
  },
  {
   "cell_type": "code",
   "execution_count": 8,
   "metadata": {
    "id": "x86Dtg0Vu-uf"
   },
   "outputs": [
    {
     "name": "stdout",
     "output_type": "stream",
     "text": [
      "Importing EntityType feature values: projects/679926387543/locations/us-central1/featurestores/embedding_poc/entityTypes/user\n",
      "Import EntityType feature values backing LRO: projects/679926387543/locations/us-central1/featurestores/embedding_poc/entityTypes/user/operations/3625984358206144512\n",
      "EntityType feature values imported. Resource name: projects/679926387543/locations/us-central1/featurestores/embedding_poc/entityTypes/user\n",
      "Importing EntityType feature values: projects/679926387543/locations/us-central1/featurestores/embedding_poc/entityTypes/user\n",
      "Import EntityType feature values backing LRO: projects/679926387543/locations/us-central1/featurestores/embedding_poc/entityTypes/user/operations/1986674093843283968\n",
      "EntityType feature values imported. Resource name: projects/679926387543/locations/us-central1/featurestores/embedding_poc/entityTypes/user\n",
      "Importing EntityType feature values: projects/679926387543/locations/us-central1/featurestores/embedding_poc/entityTypes/user\n",
      "Import EntityType feature values backing LRO: projects/679926387543/locations/us-central1/featurestores/embedding_poc/entityTypes/user/operations/1720961715828424704\n",
      "EntityType feature values imported. Resource name: projects/679926387543/locations/us-central1/featurestores/embedding_poc/entityTypes/user\n",
      "Importing EntityType feature values: projects/679926387543/locations/us-central1/featurestores/embedding_poc/entityTypes/user\n",
      "Import EntityType feature values backing LRO: projects/679926387543/locations/us-central1/featurestores/embedding_poc/entityTypes/user/operations/3812883742742020096\n",
      "EntityType feature values imported. Resource name: projects/679926387543/locations/us-central1/featurestores/embedding_poc/entityTypes/user\n",
      "Importing EntityType feature values: projects/679926387543/locations/us-central1/featurestores/embedding_poc/entityTypes/user\n",
      "Import EntityType feature values backing LRO: projects/679926387543/locations/us-central1/featurestores/embedding_poc/entityTypes/user/operations/7075741672771944448\n",
      "EntityType feature values imported. Resource name: projects/679926387543/locations/us-central1/featurestores/embedding_poc/entityTypes/user\n",
      "Importing EntityType feature values: projects/679926387543/locations/us-central1/featurestores/embedding_poc/entityTypes/user\n",
      "Import EntityType feature values backing LRO: projects/679926387543/locations/us-central1/featurestores/embedding_poc/entityTypes/user/operations/7172569064760410112\n",
      "EntityType feature values imported. Resource name: projects/679926387543/locations/us-central1/featurestores/embedding_poc/entityTypes/user\n",
      "Importing EntityType feature values: projects/679926387543/locations/us-central1/featurestores/embedding_poc/entityTypes/user\n",
      "Import EntityType feature values backing LRO: projects/679926387543/locations/us-central1/featurestores/embedding_poc/entityTypes/user/operations/786464793149046784\n",
      "EntityType feature values imported. Resource name: projects/679926387543/locations/us-central1/featurestores/embedding_poc/entityTypes/user\n",
      "4min 13s ± 27.7 s per loop (mean ± std. dev. of 7 runs, 1 loop each)\n"
     ]
    }
   ],
   "source": [
    "%%timeit\n",
    "# Also set the feature load time\n",
    "from datetime import datetime\n",
    "USERS_FEATURE_TIME = datetime.now()\n",
    "\n",
    "users_entity_type.ingest_from_df(\n",
    "    feature_ids=['user_emb'], \n",
    "    feature_time=USERS_FEATURE_TIME, #this defaults to current time, we can change later to test time travel\n",
    "    df_source=user_emb_data,\n",
    ")"
   ]
  },
  {
   "cell_type": "markdown",
   "metadata": {
    "id": "9TdxPYdDXjnA"
   },
   "source": [
    "## Get embeddings, do some profiling/timing analysis"
   ]
  },
  {
   "cell_type": "markdown",
   "metadata": {
    "id": "foNB0D2aw37c"
   },
   "source": [
    "### Read one entity per request\n",
    "\n",
    "With the Python SDK, it is easy to read feature values of one entity. By default, the SDK will return the  latest value of each feature, meaning the feature values with the most recent  timestamp.\n",
    "\n",
    "To read feature values, specify the entity type ID and features to read. By default all the features of an entity type will be selected. The response will output and display the selected entity type ID and the selected feature values as a Pandas dataframe."
   ]
  },
  {
   "cell_type": "code",
   "execution_count": 13,
   "metadata": {
    "id": "084G80L_DWwd"
   },
   "outputs": [
    {
     "name": "stdout",
     "output_type": "stream",
     "text": [
      "141 ms ± 17.6 ms per loop (mean ± std. dev. of 7 runs, 1 loop each)\n"
     ]
    }
   ],
   "source": [
    "%%timeit\n",
    "users_entity_type.read(entity_ids=\"555_555\")"
   ]
  },
  {
   "cell_type": "markdown",
   "metadata": {
    "id": "oYk83Zt9xF8m"
   },
   "source": [
    "### Read multiple entities per request\n",
    "\n",
    "To read feature values from multiple entities, specify the different entity type IDs. By default all the features of an entity type will be selected. Note that fetching only a small number of entities is recommended when using this SDK due to its latency-sensitive nature."
   ]
  },
  {
   "cell_type": "code",
   "execution_count": 14,
   "metadata": {
    "id": "DtL0uy_0Dcca"
   },
   "outputs": [
    {
     "name": "stdout",
     "output_type": "stream",
     "text": [
      "The slowest run took 4.11 times longer than the fastest. This could mean that an intermediate result is being cached.\n",
      "33.3 ms ± 14.4 ms per loop (mean ± std. dev. of 7 runs, 10 loops each)\n"
     ]
    }
   ],
   "source": [
    "%%timeit\n",
    "users_entity_type.read(\n",
    "    entity_ids=[\"7\", \"66\", \"999999\"], feature_ids=[\"user_emb\"]\n",
    ")"
   ]
  },
  {
   "cell_type": "markdown",
   "metadata": {},
   "source": [
    "### Final section - create synthetic data, time travel and establish a matching engine index"
   ]
  },
  {
   "cell_type": "code",
   "execution_count": 29,
   "metadata": {},
   "outputs": [],
   "source": [
    "def create_csv(n_rows, emb_dim, filename):\n",
    "    with open(filename, 'w') as file:\n",
    "        file.write(\"entity_id,user_emb\\n\")\n",
    "        for row in range(n_rows):\n",
    "            file.write(f\"{row},{np.random.rand(emb_dim).tolist()}\\n\")\n",
    "\n",
    "create_csv(N_CUSTOMERS, CUST_EMB_DIM, \"cust_embs.csv\")"
   ]
  },
  {
   "cell_type": "code",
   "execution_count": null,
   "metadata": {},
   "outputs": [],
   "source": [
    "users_entity_type.enti"
   ]
  },
  {
   "cell_type": "code",
   "execution_count": 39,
   "metadata": {},
   "outputs": [
    {
     "name": "stdout",
     "output_type": "stream",
     "text": [
      "Collecting avro\n",
      "  Downloading avro-1.11.0.tar.gz (83 kB)\n",
      "\u001b[2K     \u001b[90m━━━━━━━━━━━━━━━━━━━━━━━━━━━━━━━━━━━━━━━━\u001b[0m \u001b[32m83.4/83.4 kB\u001b[0m \u001b[31m4.2 MB/s\u001b[0m eta \u001b[36m0:00:00\u001b[0m\n",
      "\u001b[?25h  Installing build dependencies ... \u001b[?25ldone\n",
      "\u001b[?25h  Getting requirements to build wheel ... \u001b[?25ldone\n",
      "\u001b[?25h  Preparing metadata (pyproject.toml) ... \u001b[?25ldone\n",
      "\u001b[?25hRequirement already satisfied: typing-extensions in /opt/conda/lib/python3.7/site-packages (from avro) (4.2.0)\n",
      "Building wheels for collected packages: avro\n",
      "  Building wheel for avro (pyproject.toml) ... \u001b[?25ldone\n",
      "\u001b[?25h  Created wheel for avro: filename=avro-1.11.0-py2.py3-none-any.whl size=115908 sha256=b860b2ce231ce390f81e16c9ee27e1e9790ebfb264c6d6e813e0c3417efe610a\n",
      "  Stored in directory: /home/jupyter/.cache/pip/wheels/7d/79/ec/d7acfd56e9934b311783689c07ffecf6af9bde172950927f6d\n",
      "Successfully built avro\n",
      "Installing collected packages: avro\n",
      "\u001b[33m  WARNING: The script avro is installed in '/home/jupyter/.local/bin' which is not on PATH.\n",
      "  Consider adding this directory to PATH or, if you prefer to suppress this warning, use --no-warn-script-location.\u001b[0m\u001b[33m\n",
      "\u001b[0mSuccessfully installed avro-1.11.0\n"
     ]
    }
   ],
   "source": [
    "# !pip install avro --user"
   ]
  },
  {
   "cell_type": "markdown",
   "metadata": {},
   "source": [
    "# Generate random avro file for upload - we will use this later in matching engine retreival"
   ]
  },
  {
   "cell_type": "code",
   "execution_count": null,
   "metadata": {},
   "outputs": [],
   "source": [
    "# Convert to avro\n",
    "import avro.schema\n",
    "from avro.datafile import DataFileReader, DataFileWriter\n",
    "from avro.io import DatumReader, DatumWriter\n",
    "import json\n",
    "\n",
    "\n",
    "user_avro_schema = avro.schema.parse(json.dumps({\n",
    "  \"type\": \"record\",\n",
    "  \"name\": \"user\",\n",
    "  \"fields\": [\n",
    "      {\n",
    "       \"name\":\"entity_id\",\n",
    "       \"type\":[\"null\",\"string\"]\n",
    "      },\n",
    "      {\n",
    "       \"name\":\"user_emb\",\n",
    "          \"type\":\n",
    "          {\n",
    "            \"type\": \"array\",\n",
    "            \"items\": \"double\",\n",
    "            \"default\": []\n",
    "          }\n",
    "      },\n",
    "  ]\n",
    " }))\n",
    "\n",
    "def create_avro(n_rows, emb_dim, filename):\n",
    "    with open(filename, 'w') as out:\n",
    "        writer = DataFileWriter(out, DatumWriter(), user_avro_schema)\n",
    "        for record in range(n_rows):\n",
    "            record = {\"user_emb\": np.random.rand(emb_dim).tolist(), \n",
    "                      \"entity_id\": str(record)}\n",
    "            writer.append(record)\n",
    "    out.close()\n",
    "            \n",
    "create_avro(N_CUSTOMERS, CUST_EMB_DIM, 'cust_embs.avro')\n",
    "                "
   ]
  },
  {
   "cell_type": "code",
   "execution_count": 8,
   "metadata": {},
   "outputs": [
    {
     "name": "stdout",
     "output_type": "stream",
     "text": [
      "Copying file://cust_embs.avro [Content-Type=application/octet-stream]...\n",
      "==> NOTE: You are uploading one or more large file(s), which would run          \n",
      "significantly faster if you enable parallel composite uploads. This\n",
      "feature can be enabled by editing the\n",
      "\"parallel_composite_upload_threshold\" value in your .boto\n",
      "configuration file. However, note that if you do this large files will\n",
      "be uploaded as `composite objects\n",
      "<https://cloud.google.com/storage/docs/composite-objects>`_,which\n",
      "means that any user who downloads such objects will need to have a\n",
      "compiled crcmod installed (see \"gsutil help crcmod\"). This is because\n",
      "without a compiled crcmod, computing checksums on composite objects is\n",
      "so slow that gsutil disables downloads of composite objects.\n",
      "\n",
      "| [1 files][  3.8 GiB/  3.8 GiB]  137.2 MiB/s                                   \n",
      "Operation completed over 1 objects/3.8 GiB.                                      \n"
     ]
    }
   ],
   "source": [
    "!gsutil cp cust_embs.avro gs://wortz-project-bucket/fs-embeddings/6-9-22"
   ]
  },
  {
   "cell_type": "markdown",
   "metadata": {},
   "source": [
    "### Finally ingest the avro features - takes about 8 minutes with one worker"
   ]
  },
  {
   "cell_type": "code",
   "execution_count": 9,
   "metadata": {},
   "outputs": [
    {
     "name": "stdout",
     "output_type": "stream",
     "text": [
      "Importing EntityType feature values: projects/679926387543/locations/us-central1/featurestores/embedding_poc/entityTypes/user\n",
      "Import EntityType feature values backing LRO: projects/679926387543/locations/us-central1/featurestores/embedding_poc/entityTypes/user/operations/2480381202993774592\n",
      "EntityType feature values imported. Resource name: projects/679926387543/locations/us-central1/featurestores/embedding_poc/entityTypes/user\n"
     ]
    },
    {
     "data": {
      "text/plain": [
       "<google.cloud.aiplatform.featurestore.entity_type.EntityType object at 0x7fcf22ef5c50> \n",
       "resource name: projects/679926387543/locations/us-central1/featurestores/embedding_poc/entityTypes/user"
      ]
     },
     "execution_count": 9,
     "metadata": {},
     "output_type": "execute_result"
    }
   ],
   "source": [
    "from datetime import datetime\n",
    "USERS_FEATURE_TIME = datetime.now()\n",
    "\n",
    "users_entity_type.ingest_from_gcs(\n",
    "    feature_ids=['user_emb'],\n",
    "    feature_time=USERS_FEATURE_TIME,\n",
    "    gcs_source_uris='gs://wortz-project-bucket/fs-embeddings/6-9-22/cust_embs.avro',\n",
    "    gcs_source_type='avro',\n",
    "    worker_count=1,\n",
    "    sync=True,\n",
    ")"
   ]
  },
  {
   "cell_type": "markdown",
   "metadata": {
    "id": "Sds42j8ZsCzS"
   },
   "source": [
    "Now that you have learned how to fetch imported feature values for online serving, the next step is learning how to use imported feature values for offline use cases."
   ]
  },
  {
   "cell_type": "code",
   "execution_count": null,
   "metadata": {},
   "outputs": [],
   "source": [
    "# ?users_entity_type.ingest_from_gcs"
   ]
  },
  {
   "cell_type": "code",
   "execution_count": null,
   "metadata": {
    "id": "NBTNfN8vxz4x"
   },
   "outputs": [],
   "source": [
    "# # Delete Featurestore\n",
    "# fs.delete(force=True)"
   ]
  },
  {
   "cell_type": "code",
   "execution_count": null,
   "metadata": {
    "id": "kzkD2SWJ2gIK"
   },
   "outputs": [],
   "source": [
    "# # Delete BigQuery dataset\n",
    "# client = bigquery.Client(project=PROJECT_ID)\n",
    "# client.delete_dataset(\n",
    "#     DESTINATION_DATA_SET, delete_contents=True, not_found_ok=True\n",
    "# )  # Make an API request.\n",
    "\n",
    "# print(\"Deleted dataset '{}'.\".format(DESTINATION_DATA_SET))"
   ]
  }
 ],
 "metadata": {
  "accelerator": "GPU",
  "colab": {
   "collapsed_sections": [
    "BlqJ-QdTcs6W",
    "hKwWGg2i4a4G"
   ],
   "name": "sdk-feature-store.ipynb",
   "toc_visible": true
  },
  "environment": {
   "kernel": "python3",
   "name": "tf2-gpu.2-8.m93",
   "type": "gcloud",
   "uri": "gcr.io/deeplearning-platform-release/tf2-gpu.2-8:m93"
  },
  "kernelspec": {
   "display_name": "Python 3",
   "language": "python",
   "name": "python3"
  },
  "language_info": {
   "codemirror_mode": {
    "name": "ipython",
    "version": 3
   },
   "file_extension": ".py",
   "mimetype": "text/x-python",
   "name": "python",
   "nbconvert_exporter": "python",
   "pygments_lexer": "ipython3",
   "version": "3.7.12"
  }
 },
 "nbformat": 4,
 "nbformat_minor": 4
}
